{
 "cells": [
  {
   "cell_type": "code",
   "execution_count": 7,
   "metadata": {},
   "outputs": [],
   "source": [
    "%matplotlib inline\n",
    "import numpy as np\n",
    "import matplotlib.pyplot as plt\n",
    "import os\n",
    "from susy_tools import *\n",
    "import multiprocessing as mp"
   ]
  },
  {
   "cell_type": "code",
   "execution_count": 8,
   "metadata": {},
   "outputs": [
    {
     "data": {
      "text/plain": [
       "(6126.68232719811, 124.782959)"
      ]
     },
     "execution_count": 8,
     "metadata": {},
     "output_type": "execute_result"
    }
   ],
   "source": [
    "mu = 2000\n",
    "tanB = 5\n",
    "m_sleptons = 2000\n",
    "\n",
    "## Edit susy-hit input to generate spectra\n",
    "changeParamValue(\"mu(EWSB)\", mu)\n",
    "changeParamValue(\"A_t\", 3.50e3)\n",
    "changeParamValue(\"A_tau\", -250)\n",
    "changeParamValue(\"tanbeta(MZ)\", tanB)\n",
    "\n",
    "changeParamValue(\"M_eL\",   m_sleptons)\n",
    "changeParamValue(\"M_eR\",   m_sleptons)\n",
    "changeParamValue(\"M_muL\",  m_sleptons)\n",
    "changeParamValue(\"M_muR\",  m_sleptons)\n",
    "changeParamValue(\"M_tauL\", m_sleptons)\n",
    "changeParamValue(\"M_tauR\", m_sleptons)\n",
    "\n",
    "optimize_higgs(125., tolerance=0.1)"
   ]
  },
  {
   "cell_type": "code",
   "execution_count": 9,
   "metadata": {},
   "outputs": [],
   "source": [
    "compressed = False\n",
    "points = generate_parameter_points(400, 500, 15, 15, M2_offset=0, M1_min=10)"
   ]
  },
  {
   "cell_type": "code",
   "execution_count": 6,
   "metadata": {},
   "outputs": [],
   "source": [
    "compressed = True\n",
    "\n",
    "points = []\n",
    "\n",
    "N = 25\n",
    "max_diff = 150\n",
    "\n",
    "M1 = np.linspace(30, 500, N)\n",
    "\n",
    "for m1 in M1:\n",
    "    min_M2 = get_closestmass(m1)\n",
    "    \n",
    "    if min_M2 < m1:\n",
    "        min_M2 = m1\n",
    "        \n",
    "    min_diff = get_neutralinoMassDiff(m1, min_M2)\n",
    "\n",
    "    points.append([m1, min_M2])\n",
    "    for dm in np.logspace(np.log10(min_diff/2), np.log10(max_diff), N-1):\n",
    "        points.append([m1, m1 + dm])"
   ]
  },
  {
   "cell_type": "code",
   "execution_count": 10,
   "metadata": {},
   "outputs": [],
   "source": [
    "compressed = True\n",
    "\n",
    "points = []\n",
    "\n",
    "N = 20\n",
    "max_diff = 150\n",
    "\n",
    "M2 = np.linspace(200, 500, N)\n",
    "\n",
    "for m2 in M2:\n",
    "    for dm in np.logspace(np.log10((m2-max_diff)/m2), 0, N):\n",
    "        points.append([m2*dm, m2])"
   ]
  },
  {
   "cell_type": "code",
   "execution_count": 11,
   "metadata": {},
   "outputs": [
    {
     "name": "stdout",
     "output_type": "stream",
     "text": [
      "Running 400 points... \n",
      "Process 400/400 Done! \t Runtime: 0:02:02 \t Time Remaining (est): 0:00:00 \r"
     ]
    }
   ],
   "source": [
    "queue = run(points, True, run_prospino=False, run_micromegas=False,\n",
    "            working_directory=\"br_dir\")"
   ]
  },
  {
   "cell_type": "code",
   "execution_count": 12,
   "metadata": {},
   "outputs": [],
   "source": [
    "if queue.qsize() > 0:\n",
    "    data = []\n",
    "    while queue.qsize() > 0:\n",
    "        ret = queue.get()\n",
    "        data.append([ret[i] for i in [\"m_x1\", \"m_x2\", \"cx\", \"gm2\", \"omega\"]])\n",
    "\n",
    "    m_x1, m_x2, cx, gm2, om = np.array(data).T  \n",
    "    m_x1 = np.abs(m_x1)\n",
    "    m_x2 = np.abs(m_x2)"
   ]
  },
  {
   "cell_type": "code",
   "execution_count": 13,
   "metadata": {},
   "outputs": [
    {
     "name": "stderr",
     "output_type": "stream",
     "text": [
      "/home/duncan/UChicago/SUSY/scripts/susy_tools.py:84: UserWarning: Finding parameter BR(~chi_20 -> ~mu_L-    mu+) failed. Returning NaN.\n",
      "  warnings.warn(\"Finding parameter %s failed. Returning NaN.\" % label)\n",
      "/home/duncan/UChicago/SUSY/scripts/susy_tools.py:84: UserWarning: Finding parameter BR(~chi_20 -> ~mu_L+    mu-) failed. Returning NaN.\n",
      "  warnings.warn(\"Finding parameter %s failed. Returning NaN.\" % label)\n",
      "/home/duncan/UChicago/SUSY/scripts/susy_tools.py:84: UserWarning: Finding parameter BR(~chi_20 -> ~e_L-     e+) failed. Returning NaN.\n",
      "  warnings.warn(\"Finding parameter %s failed. Returning NaN.\" % label)\n",
      "/home/duncan/UChicago/SUSY/scripts/susy_tools.py:84: UserWarning: Finding parameter BR(~chi_20 -> ~e_L+     e-) failed. Returning NaN.\n",
      "  warnings.warn(\"Finding parameter %s failed. Returning NaN.\" % label)\n",
      "/home/duncan/UChicago/SUSY/scripts/susy_tools.py:84: UserWarning: Finding parameter BR(~chi_20 -> ~tau_1+   tau-) failed. Returning NaN.\n",
      "  warnings.warn(\"Finding parameter %s failed. Returning NaN.\" % label)\n",
      "/home/duncan/UChicago/SUSY/scripts/susy_tools.py:84: UserWarning: Finding parameter BR(~chi_20 -> ~tau_1-   tau+) failed. Returning NaN.\n",
      "  warnings.warn(\"Finding parameter %s failed. Returning NaN.\" % label)\n",
      "/home/duncan/UChicago/SUSY/scripts/susy_tools.py:84: UserWarning: Finding parameter BR(~chi_20 -> ~chi_10 e+      e-) failed. Returning NaN.\n",
      "  warnings.warn(\"Finding parameter %s failed. Returning NaN.\" % label)\n",
      "/home/duncan/UChicago/SUSY/scripts/susy_tools.py:84: UserWarning: Finding parameter BR(~chi_20 -> ~chi_10 mu+     mu-) failed. Returning NaN.\n",
      "  warnings.warn(\"Finding parameter %s failed. Returning NaN.\" % label)\n",
      "/home/duncan/UChicago/SUSY/scripts/susy_tools.py:84: UserWarning: Finding parameter BR(~chi_20 -> ~chi_10 tau+    tau-) failed. Returning NaN.\n",
      "  warnings.warn(\"Finding parameter %s failed. Returning NaN.\" % label)\n",
      "/home/duncan/UChicago/SUSY/scripts/susy_tools.py:84: UserWarning: Finding parameter BR(~chi_20 -> ~nu_eL*   nu_e  failed. Returning NaN.\n",
      "  warnings.warn(\"Finding parameter %s failed. Returning NaN.\" % label)\n",
      "/home/duncan/UChicago/SUSY/scripts/susy_tools.py:84: UserWarning: Finding parameter BR(~chi_20 -> ~nu_muL*  nu_mu  failed. Returning NaN.\n",
      "  warnings.warn(\"Finding parameter %s failed. Returning NaN.\" % label)\n",
      "/home/duncan/UChicago/SUSY/scripts/susy_tools.py:84: UserWarning: Finding parameter BR(~chi_20 -> ~nu_tau1* nu_tau  failed. Returning NaN.\n",
      "  warnings.warn(\"Finding parameter %s failed. Returning NaN.\" % label)\n",
      "/home/duncan/UChicago/SUSY/scripts/susy_tools.py:84: UserWarning: Finding parameter BR(~chi_20 -> ~chi_10 nu_eb   nu_e) failed. Returning NaN.\n",
      "  warnings.warn(\"Finding parameter %s failed. Returning NaN.\" % label)\n",
      "/home/duncan/UChicago/SUSY/scripts/susy_tools.py:84: UserWarning: Finding parameter BR(~chi_20 -> ~chi_10 ub      u) failed. Returning NaN.\n",
      "  warnings.warn(\"Finding parameter %s failed. Returning NaN.\" % label)\n",
      "/home/duncan/UChicago/SUSY/scripts/susy_tools.py:84: UserWarning: Finding parameter BR(~chi_20 -> ~chi_10 db      d) failed. Returning NaN.\n",
      "  warnings.warn(\"Finding parameter %s failed. Returning NaN.\" % label)\n",
      "/home/duncan/UChicago/SUSY/scripts/susy_tools.py:84: UserWarning: Finding parameter BR(~chi_20 -> ~chi_10 cb      c) failed. Returning NaN.\n",
      "  warnings.warn(\"Finding parameter %s failed. Returning NaN.\" % label)\n",
      "/home/duncan/UChicago/SUSY/scripts/susy_tools.py:84: UserWarning: Finding parameter BR(~chi_20 -> ~chi_10 sb      s) failed. Returning NaN.\n",
      "  warnings.warn(\"Finding parameter %s failed. Returning NaN.\" % label)\n",
      "/home/duncan/UChicago/SUSY/scripts/susy_tools.py:84: UserWarning: Finding parameter BR(~chi_20 -> ~chi_10 bb      b) failed. Returning NaN.\n",
      "  warnings.warn(\"Finding parameter %s failed. Returning NaN.\" % label)\n",
      "/home/duncan/UChicago/SUSY/scripts/susy_tools.py:84: UserWarning: Finding parameter BR(~chi_20 -> ~chi_10 gam) failed. Returning NaN.\n",
      "  warnings.warn(\"Finding parameter %s failed. Returning NaN.\" % label)\n",
      "/home/duncan/UChicago/SUSY/scripts/susy_tools.py:84: UserWarning: Finding parameter BR(~chi_20 -> ~chi_1+ ub      d) failed. Returning NaN.\n",
      "  warnings.warn(\"Finding parameter %s failed. Returning NaN.\" % label)\n",
      "/home/duncan/UChicago/SUSY/scripts/susy_tools.py:84: UserWarning: Finding parameter BR(~chi_20 -> ~chi_1- db      u) failed. Returning NaN.\n",
      "  warnings.warn(\"Finding parameter %s failed. Returning NaN.\" % label)\n",
      "/home/duncan/UChicago/SUSY/scripts/susy_tools.py:84: UserWarning: Finding parameter BR(~chi_20 -> ~chi_1+ cb      s) failed. Returning NaN.\n",
      "  warnings.warn(\"Finding parameter %s failed. Returning NaN.\" % label)\n",
      "/home/duncan/UChicago/SUSY/scripts/susy_tools.py:84: UserWarning: Finding parameter BR(~chi_20 -> ~chi_1- sb      c) failed. Returning NaN.\n",
      "  warnings.warn(\"Finding parameter %s failed. Returning NaN.\" % label)\n",
      "/home/duncan/UChicago/SUSY/scripts/susy_tools.py:84: UserWarning: Finding parameter BR(~chi_20 -> ~chi_10   h ) failed. Returning NaN.\n",
      "  warnings.warn(\"Finding parameter %s failed. Returning NaN.\" % label)\n",
      "/home/duncan/UChicago/SUSY/scripts/susy_tools.py:84: UserWarning: Finding parameter BR(~chi_20 -> ~chi_10   Z ) failed. Returning NaN.\n",
      "  warnings.warn(\"Finding parameter %s failed. Returning NaN.\" % label)\n"
     ]
    }
   ],
   "source": [
    "br_Z = []\n",
    "br_h = []\n",
    "br_stau = []\n",
    "br_emu = []\n",
    "br_snu = []\n",
    "br_nu = []\n",
    "br_gam = []\n",
    "br_x0_quarks = []\n",
    "br_xpm_quarks = []\n",
    "br_sleptons = []\n",
    "\n",
    "for p in points:\n",
    "    filename = \"spectrum_%i_%i.dat\" % (p[0], p[1])\n",
    "    \n",
    "    with open(\"./br_dir/spectra_slha/\" + filename) as f:\n",
    "        s = f.read()\n",
    "                \n",
    "    br_Z.append(np.nan_to_num(getBranchingRatio(s, \"BR(~chi_20 -> ~chi_10   Z )\")))\n",
    "    br_h.append(np.nan_to_num(getBranchingRatio(s, \"BR(~chi_20 -> ~chi_10   h )\")))\n",
    "    \n",
    "    br_sleptons.append(getBranchingRatio(s, \"BR(~chi_20 -> ~mu_L-    mu+)\") + \n",
    "                  getBranchingRatio(s, \"BR(~chi_20 -> ~mu_L+    mu-)\") +\n",
    "                  getBranchingRatio(s, \"BR(~chi_20 -> ~e_L-     e+)\") +\n",
    "                  getBranchingRatio(s, \"BR(~chi_20 -> ~e_L+     e-)\") +\n",
    "                  getBranchingRatio(s, \"BR(~chi_20 -> ~tau_1+   tau-)\") +\n",
    "                  getBranchingRatio(s, \"BR(~chi_20 -> ~tau_1-   tau+)\") )\n",
    "    \n",
    "    br_emu.append(np.nan_to_num(getBranchingRatio(s, \"BR(~chi_20 -> ~chi_10 e+      e-)\")) + \n",
    "                  np.nan_to_num(getBranchingRatio(s, \"BR(~chi_20 -> ~chi_10 mu+     mu-)\")) +\n",
    "                  np.nan_to_num(getBranchingRatio(s, \"BR(~chi_20 -> ~chi_10 tau+    tau-)\")))\n",
    "    \n",
    "    br_snu.append(2 * getBranchingRatio(s, \"BR(~chi_20 -> ~nu_eL*   nu_e \") + \n",
    "                  2 * getBranchingRatio(s, \"BR(~chi_20 -> ~nu_muL*  nu_mu \") + \n",
    "                  2 * getBranchingRatio(s, \"BR(~chi_20 -> ~nu_tau1* nu_tau \"))\n",
    "    \n",
    "    br_nu.append(np.nan_to_num(3*getBranchingRatio(s, \"BR(~chi_20 -> ~chi_10 nu_eb   nu_e)\")))\n",
    "    \n",
    "    br_x0_quarks.append(np.nan_to_num(getBranchingRatio(s, \"BR(~chi_20 -> ~chi_10 ub      u)\")) +\n",
    "                     np.nan_to_num(getBranchingRatio(s, \"BR(~chi_20 -> ~chi_10 db      d)\")) +\n",
    "                     np.nan_to_num(getBranchingRatio(s, \"BR(~chi_20 -> ~chi_10 cb      c)\")) +\n",
    "                     np.nan_to_num(getBranchingRatio(s, \"BR(~chi_20 -> ~chi_10 sb      s)\")) +\n",
    "                     np.nan_to_num(getBranchingRatio(s, \"BR(~chi_20 -> ~chi_10 bb      b)\")) \n",
    "                    )\n",
    "    \n",
    "    br_gam.append(getBranchingRatio(s, \"BR(~chi_20 -> ~chi_10 gam)\"))\n",
    "    \n",
    "    \n",
    "    br_xpm_quarks.append(np.nan_to_num(getBranchingRatio(s, \"BR(~chi_20 -> ~chi_1+ ub      d)\")) +\n",
    "                         np.nan_to_num(getBranchingRatio(s, \"BR(~chi_20 -> ~chi_1- db      u)\")) +\n",
    "                         np.nan_to_num(getBranchingRatio(s, \"BR(~chi_20 -> ~chi_1+ cb      s)\")) +\n",
    "                         np.nan_to_num(getBranchingRatio(s, \"BR(~chi_20 -> ~chi_1- sb      c)\"))\n",
    "                        )"
   ]
  },
  {
   "cell_type": "code",
   "execution_count": 14,
   "metadata": {},
   "outputs": [],
   "source": [
    "def plot_z_h(x, compressed=False):\n",
    "    if not compressed:\n",
    "        plt.plot(x, x-92.)\n",
    "        plt.plot(x, x-125.)\n",
    "    else:\n",
    "        plt.plot(x, len(x)*[92.])\n",
    "        plt.plot(x, len(x)*[125.])"
   ]
  },
  {
   "cell_type": "code",
   "execution_count": 15,
   "metadata": {},
   "outputs": [],
   "source": [
    "bz = np.array(br_Z)\n",
    "bh = np.array(br_h)\n",
    "\n",
    "bz[np.isnan(bz)] = 0\n",
    "bh[np.isnan(bh)] = 0\n",
    "br_hz = bz + bh"
   ]
  },
  {
   "cell_type": "code",
   "execution_count": 16,
   "metadata": {},
   "outputs": [
    {
     "data": {
      "image/png": "[encoded data removed]",
      "text/plain": [
       "<Figure size 864x864 with 8 Axes>"
      ]
     },
     "metadata": {
      "needs_background": "light"
     },
     "output_type": "display_data"
    }
   ],
   "source": [
    "h_cmap = truncate_colormap(plt.get_cmap(\"rainbow\"), 0.4, 1)\n",
    "z_cmap = truncate_colormap(plt.get_cmap(\"PRGn_r\"), 0.4, 1)\n",
    "\n",
    "levels = np.linspace(0, 1.001, 100)\n",
    "\n",
    "f = plt.figure(figsize=(12,12))\n",
    "\n",
    "if compressed:\n",
    "    y = m_x2 - m_x1\n",
    "else:\n",
    "    y = m_x1\n",
    "    \n",
    "    \n",
    "br_rat = [br_hz,  br_emu, br_nu, br_gam, br_x0_quarks, br_xpm_quarks, br_sleptons, br_snu]\n",
    "cmaps = [h_cmap, \"viridis\", \"viridis\", \"viridis\", \"viridis\", \"viridis\", \"viridis\", \"viridis\"]\n",
    "names = [\"$x_0^1 + Z/h$\",  \"$\\chi_0^1 + l^+ + l^-$\", r\"$\\chi_0^1 + \\nu + \\overline{\\nu}$\", \"$\\chi_1^0 + \\gamma$\", \n",
    "         \"$\\chi_0^1 + \\overline{q} + q$\", \"$\\chi_1^\\pm + \\overline{q} + q$\", \"$\\~l^\\pm + l^\\mp$\",\n",
    "         r\"$\\~{\\nu}_l + \\nu_l$\"]\n",
    "\n",
    "    \n",
    "for i in range(len(br_rat)):\n",
    "\n",
    "    f.add_subplot(3, 3, i+1)\n",
    "\n",
    "    sel = ~np.isnan(br_rat[i])\n",
    "    \n",
    "    br_rat_nonan = np.array(br_rat[i])\n",
    "    br_rat_nonan[~sel] = 0\n",
    "    \n",
    "    x = np.linspace(min(m_x2), max(m_x2), 10)\n",
    "\n",
    "    zp = plt.plot(x, len(x)*[92.])\n",
    "    hp = plt.plot(x, len(x)*[125.])\n",
    "    plt.tricontourf(m_x2, y, np.ones(len(y)), cmap=\"gray_r\", alpha=0.1)\n",
    "\n",
    "    z = np.ones(len(y))\n",
    "    mi = np.argmin(m_x2**2 + y**2)\n",
    "    z[mi] = -1\n",
    "    \n",
    "    if sum(sel) > 0:\n",
    "\n",
    "        plt.tricontourf(m_x2, y, \n",
    "                        np.sqrt(br_rat_nonan),levels=levels, cmap=cmaps[i])\n",
    "\n",
    "            \n",
    "    lims = plt.ylim()\n",
    "    xlims = plt.xlim()\n",
    "    plt.fill_between([xlims[0], xlims[1]], [xlims[0] - m_sleptons, xlims[1] - m_sleptons],\n",
    "                    hatch=\"x\", color=\"gray\", alpha=0.5)\n",
    "    plt.ylim(*lims)\n",
    "\n",
    "    plt.xlabel(r\"$m_{x2}$\")\n",
    "    plt.ylabel(r\"$\\Delta(m_{x1}, m_{x2})$\")\n",
    "    plt.title(r\"BR$(\\chi_2^0\\  \\to $ % s)\" % names[i])\n",
    "    plt.yscale(\"log\")\n",
    "    \n",
    "    if i == 0:\n",
    "\n",
    "        plt.legend([zp[0], hp[0]],[\"M_Z\", \"M_h\"])\n",
    "        plt.text(500, 10, \"tanB: %i\\nmu: %i\\nm_slept: %i\" % (tanB, mu, m_sleptons))\n",
    "\n",
    "plt.tight_layout()"
   ]
  },
  {
   "cell_type": "code",
   "execution_count": 196,
   "metadata": {},
   "outputs": [],
   "source": [
    "br_rat_nonan = np.array(br_rat)\n",
    "br_rat_nonan[np.isnan(br_rat_nonan)] = 0\n",
    "tot = np.sum(br_rat_nonan, axis=0)"
   ]
  },
  {
   "cell_type": "code",
   "execution_count": 152,
   "metadata": {},
   "outputs": [
    {
     "data": {
      "image/png": "[encoded data removed]",
      "text/plain": [
       "<Figure size 432x288 with 2 Axes>"
      ]
     },
     "metadata": {
      "needs_background": "light"
     },
     "output_type": "display_data"
    }
   ],
   "source": [
    "plt.tricontourf(m_x2, y, \n",
    "                tot,levels=np.linspace(0, 1.001, 20), cmap=cmaps[0])\n",
    "plt.colorbar()\n",
    "plt.yscale(\"log\")"
   ]
  },
  {
   "cell_type": "code",
   "execution_count": 134,
   "metadata": {},
   "outputs": [
    {
     "data": {
      "text/plain": [
       "<matplotlib.tri.tricontour.TriContourSet at 0x7f66a876c4c0>"
      ]
     },
     "execution_count": 134,
     "metadata": {},
     "output_type": "execute_result"
    },
    {
     "data": {
      "image/png": "[encoded data removed]",
      "text/plain": [
       "<Figure size 432x288 with 1 Axes>"
      ]
     },
     "metadata": {
      "needs_background": "light"
     },
     "output_type": "display_data"
    }
   ],
   "source": [
    "M_diff = np.array(points).T[1] - np.array(points).T[0]\n",
    "\n"
   ]
  },
  {
   "cell_type": "code",
   "execution_count": 125,
   "metadata": {},
   "outputs": [
    {
     "data": {
      "text/plain": [
       "array([ -2.48017241,   0.5326496 ,   1.11754535,   2.34470766,\n",
       "         4.9194013 ,  10.32133325,  21.6550579 ,  45.43420132,\n",
       "        95.32491943, 200.        ,  -7.27118675,   0.6218337 ,\n",
       "         1.27965743,   2.63337792,   5.41916853,  11.15198368,\n",
       "        22.94941359,  47.2270763 ,  97.18752626, 200.        ,\n",
       "       -11.3730613 ,   0.711842  ,   1.44033796,   2.91437347,\n",
       "         5.89693042,  11.931823  ,  24.14279799,  48.8504309 ,\n",
       "        98.84374629, 200.        , -14.98935023,   0.803668  ,\n",
       "         1.60166189,   3.19201561,   6.36149472,  12.67807556,\n",
       "        25.26664048,  50.35489165, 100.35426413, 200.        ,\n",
       "       -18.22722913,   0.89751   ,   1.76416066,   3.46766369,\n",
       "         6.81609773,  13.39783565,  26.33500974,  51.76453544,\n",
       "       101.7492363 , 200.        , -21.15557555,   0.993778  ,\n",
       "         1.92866569,   3.74304055,   7.26427221,  14.09807079,\n",
       "        27.36070377,  53.10003915, 103.05342222, 200.        ,\n",
       "       -23.82182812,   1.092891  ,   2.09596243,   4.01966755,\n",
       "         7.70897752,  14.78439042,  28.35372128,  54.37718348,\n",
       "       104.28536185, 200.        , -26.26038198,   1.195347  ,\n",
       "         2.26691897,   4.29910444,   8.15304794,  15.46186923,\n",
       "        29.32270261,  55.60911657, 105.46005554, 200.        ,\n",
       "       -28.49725054,   1.301667  ,   2.44239643,   4.58281599,\n",
       "         8.59901453,  16.13485048,  30.27479477,  56.80642654,\n",
       "       106.58933018, 200.        , -30.5526946 ,   1.412434  ,\n",
       "         2.62331772,   4.87229552,   9.04932843,  16.80734363,\n",
       "        31.21632751,  57.97817457, 107.68302983, 200.        ])"
      ]
     },
     "execution_count": 125,
     "metadata": {},
     "output_type": "execute_result"
    }
   ],
   "source": [
    "M_diff"
   ]
  },
  {
   "cell_type": "code",
   "execution_count": 140,
   "metadata": {},
   "outputs": [
    {
     "data": {
      "text/plain": [
       "<matplotlib.collections.PathCollection at 0x7fc6d18fbd90>"
      ]
     },
     "execution_count": 140,
     "metadata": {},
     "output_type": "execute_result"
    },
    {
     "data": {
      "image/png": "[encoded data removed]",
      "text/plain": [
       "<Figure size 432x288 with 1 Axes>"
      ]
     },
     "metadata": {
      "needs_background": "light"
     },
     "output_type": "display_data"
    }
   ],
   "source": [
    "plt.scatter(m_x2, m_x1)"
   ]
  },
  {
   "cell_type": "code",
   "execution_count": 45,
   "metadata": {},
   "outputs": [
    {
     "data": {
      "text/plain": [
       "<matplotlib.collections.PathCollection at 0x7fc6d18a9b50>"
      ]
     },
     "execution_count": 45,
     "metadata": {},
     "output_type": "execute_result"
    },
    {
     "data": {
      "image/png": "[encoded data removed]",
      "text/plain": [
       "<Figure size 432x288 with 1 Axes>"
      ]
     },
     "metadata": {
      "needs_background": "light"
     },
     "output_type": "display_data"
    }
   ],
   "source": [
    "plt.scatter(m_x2, y)"
   ]
  },
  {
   "cell_type": "code",
   "execution_count": 22,
   "metadata": {},
   "outputs": [
    {
     "data": {
      "text/plain": [
       "<matplotlib.tri.tricontour.TriContourSet at 0x7f611ad979d0>"
      ]
     },
     "execution_count": 22,
     "metadata": {},
     "output_type": "execute_result"
    },
    {
     "data": {
      "image/png": "[encoded data removed]",
      "text/plain": [
       "<Figure size 432x288 with 1 Axes>"
      ]
     },
     "metadata": {
      "needs_background": "light"
     },
     "output_type": "display_data"
    }
   ],
   "source": [
    "comb = np.array(br_h) + np.array(br_Z)\n",
    "sel = ~np.isnan(comb)\n",
    "\n",
    "plt.tricontourf(points[sel][:,1], points[sel][:,0], \n",
    "                np.array(comb)[sel],levels=np.linspace(0.99, 1.01, 100))"
   ]
  },
  {
   "cell_type": "code",
   "execution_count": 34,
   "metadata": {},
   "outputs": [],
   "source": [
    "label = \"BR(~chi_20 -> ~chi_10   Z )\"\n",
    "end = s.find(' # ' + label)\n",
    "    \n",
    "if end == -1:\n",
    "    warnings.warn(\"Finding parameter %s failed. Returning NaN.\" % label)\n",
    "\n",
    "else:\n",
    "    start = s[:end].rfind(\"\\n\") + 2\n",
    "\n",
    "    line = s[start:end]\n",
    "\n",
    "    if line[0] == \"#\": line[0] = \" \"\n",
    "\n",
    "    parind = len(line) - len(line.lstrip())\n",
    "    parlen = line[parind:].find(\" \")\n",
    "\n",
    "    ind_val = len(line) - len(line[parind+parlen:].lstrip())"
   ]
  },
  {
   "cell_type": "code",
   "execution_count": 35,
   "metadata": {},
   "outputs": [
    {
     "data": {
      "text/plain": [
       "'    7.33361681E-02    2     1000022        23  '"
      ]
     },
     "execution_count": 35,
     "metadata": {},
     "output_type": "execute_result"
    }
   ],
   "source": [
    "line"
   ]
  },
  {
   "cell_type": "code",
   "execution_count": 38,
   "metadata": {},
   "outputs": [
    {
     "data": {
      "text/plain": [
       "14"
      ]
     },
     "execution_count": 38,
     "metadata": {},
     "output_type": "execute_result"
    }
   ],
   "source": [
    "parlen"
   ]
  },
  {
   "cell_type": "code",
   "execution_count": 37,
   "metadata": {},
   "outputs": [
    {
     "data": {
      "text/plain": [
       "0.0733361681"
      ]
     },
     "execution_count": 37,
     "metadata": {},
     "output_type": "execute_result"
    }
   ],
   "source": [
    "float(line[parind:parind+parlen])"
   ]
  },
  {
   "cell_type": "code",
   "execution_count": 28,
   "metadata": {},
   "outputs": [
    {
     "data": {
      "text/plain": [
       "22"
      ]
     },
     "execution_count": 28,
     "metadata": {},
     "output_type": "execute_result"
    }
   ],
   "source": [
    "ind_val"
   ]
  },
  {
   "cell_type": "code",
   "execution_count": 24,
   "metadata": {},
   "outputs": [
    {
     "ename": "ValueError",
     "evalue": "could not convert string to float: '2     1000022        23  '",
     "output_type": "error",
     "traceback": [
      "\u001b[0;31m---------------------------------------------------------------------------\u001b[0m",
      "\u001b[0;31mValueError\u001b[0m                                Traceback (most recent call last)",
      "\u001b[0;32m<ipython-input-24-889cf99ff87d>\u001b[0m in \u001b[0;36m<module>\u001b[0;34m\u001b[0m\n\u001b[0;32m----> 1\u001b[0;31m \u001b[0mfloat\u001b[0m\u001b[0;34m(\u001b[0m\u001b[0mline\u001b[0m\u001b[0;34m[\u001b[0m\u001b[0mind_val\u001b[0m\u001b[0;34m:\u001b[0m\u001b[0;34m]\u001b[0m\u001b[0;34m)\u001b[0m\u001b[0;34m\u001b[0m\u001b[0;34m\u001b[0m\u001b[0m\n\u001b[0m",
      "\u001b[0;31mValueError\u001b[0m: could not convert string to float: '2     1000022        23  '"
     ]
    }
   ],
   "source": [
    "float(line[ind_val:])"
   ]
  }
 ],
 "metadata": {
  "kernelspec": {
   "display_name": "Python 3",
   "language": "python",
   "name": "python3"
  },
  "language_info": {
   "codemirror_mode": {
    "name": "ipython",
    "version": 3
   },
   "file_extension": ".py",
   "mimetype": "text/x-python",
   "name": "python",
   "nbconvert_exporter": "python",
   "pygments_lexer": "ipython3",
   "version": "3.8.10"
  }
 },
 "nbformat": 4,
 "nbformat_minor": 4
}
